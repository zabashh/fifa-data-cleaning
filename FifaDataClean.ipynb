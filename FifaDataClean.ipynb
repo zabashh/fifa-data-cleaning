{
 "cells": [
  {
   "cell_type": "code",
   "execution_count": 2,
   "id": "5f6cced4",
   "metadata": {},
   "outputs": [],
   "source": [
    "import pandas as pd"
   ]
  },
  {
   "cell_type": "code",
   "execution_count": 4,
   "id": "8a3936c9",
   "metadata": {},
   "outputs": [],
   "source": [
    "df = pd.read_csv(\"fifa21_raw_data.csv\",low_memory=False)"
   ]
  },
  {
   "cell_type": "code",
   "execution_count": 5,
   "id": "8a1738c4",
   "metadata": {},
   "outputs": [
    {
     "data": {
      "text/html": [
       "<div>\n",
       "<style scoped>\n",
       "    .dataframe tbody tr th:only-of-type {\n",
       "        vertical-align: middle;\n",
       "    }\n",
       "\n",
       "    .dataframe tbody tr th {\n",
       "        vertical-align: top;\n",
       "    }\n",
       "\n",
       "    .dataframe thead th {\n",
       "        text-align: right;\n",
       "    }\n",
       "</style>\n",
       "<table border=\"1\" class=\"dataframe\">\n",
       "  <thead>\n",
       "    <tr style=\"text-align: right;\">\n",
       "      <th></th>\n",
       "      <th>photoUrl</th>\n",
       "      <th>LongName</th>\n",
       "      <th>playerUrl</th>\n",
       "      <th>Nationality</th>\n",
       "      <th>Positions</th>\n",
       "      <th>Name</th>\n",
       "      <th>Age</th>\n",
       "      <th>↓OVA</th>\n",
       "      <th>POT</th>\n",
       "      <th>Team &amp; Contract</th>\n",
       "      <th>...</th>\n",
       "      <th>A/W</th>\n",
       "      <th>D/W</th>\n",
       "      <th>IR</th>\n",
       "      <th>PAC</th>\n",
       "      <th>SHO</th>\n",
       "      <th>PAS</th>\n",
       "      <th>DRI</th>\n",
       "      <th>DEF</th>\n",
       "      <th>PHY</th>\n",
       "      <th>Hits</th>\n",
       "    </tr>\n",
       "  </thead>\n",
       "  <tbody>\n",
       "    <tr>\n",
       "      <th>0</th>\n",
       "      <td>https://cdn.sofifa.com/players/158/023/21_60.png</td>\n",
       "      <td>Lionel Messi</td>\n",
       "      <td>http://sofifa.com/player/158023/lionel-messi/2...</td>\n",
       "      <td>Argentina</td>\n",
       "      <td>RW ST CF</td>\n",
       "      <td>L. Messi</td>\n",
       "      <td>33</td>\n",
       "      <td>93</td>\n",
       "      <td>93</td>\n",
       "      <td>\\n\\n\\n\\nFC Barcelona\\n2004 ~ 2021\\n\\n</td>\n",
       "      <td>...</td>\n",
       "      <td>Medium</td>\n",
       "      <td>Low</td>\n",
       "      <td>5 ★</td>\n",
       "      <td>85</td>\n",
       "      <td>92</td>\n",
       "      <td>91</td>\n",
       "      <td>95</td>\n",
       "      <td>38</td>\n",
       "      <td>65</td>\n",
       "      <td>\\n372</td>\n",
       "    </tr>\n",
       "    <tr>\n",
       "      <th>1</th>\n",
       "      <td>https://cdn.sofifa.com/players/020/801/21_60.png</td>\n",
       "      <td>C. Ronaldo dos Santos Aveiro</td>\n",
       "      <td>http://sofifa.com/player/20801/c-ronaldo-dos-s...</td>\n",
       "      <td>Portugal</td>\n",
       "      <td>ST LW</td>\n",
       "      <td>Cristiano Ronaldo</td>\n",
       "      <td>35</td>\n",
       "      <td>92</td>\n",
       "      <td>92</td>\n",
       "      <td>\\n\\n\\n\\nJuventus\\n2018 ~ 2022\\n\\n</td>\n",
       "      <td>...</td>\n",
       "      <td>High</td>\n",
       "      <td>Low</td>\n",
       "      <td>5 ★</td>\n",
       "      <td>89</td>\n",
       "      <td>93</td>\n",
       "      <td>81</td>\n",
       "      <td>89</td>\n",
       "      <td>35</td>\n",
       "      <td>77</td>\n",
       "      <td>\\n344</td>\n",
       "    </tr>\n",
       "    <tr>\n",
       "      <th>2</th>\n",
       "      <td>https://cdn.sofifa.com/players/200/389/21_60.png</td>\n",
       "      <td>Jan Oblak</td>\n",
       "      <td>http://sofifa.com/player/200389/jan-oblak/210005/</td>\n",
       "      <td>Slovenia</td>\n",
       "      <td>GK</td>\n",
       "      <td>J. Oblak</td>\n",
       "      <td>27</td>\n",
       "      <td>91</td>\n",
       "      <td>93</td>\n",
       "      <td>\\n\\n\\n\\nAtlético Madrid\\n2014 ~ 2023\\n\\n</td>\n",
       "      <td>...</td>\n",
       "      <td>Medium</td>\n",
       "      <td>Medium</td>\n",
       "      <td>3 ★</td>\n",
       "      <td>87</td>\n",
       "      <td>92</td>\n",
       "      <td>78</td>\n",
       "      <td>90</td>\n",
       "      <td>52</td>\n",
       "      <td>90</td>\n",
       "      <td>\\n86</td>\n",
       "    </tr>\n",
       "    <tr>\n",
       "      <th>3</th>\n",
       "      <td>https://cdn.sofifa.com/players/192/985/21_60.png</td>\n",
       "      <td>Kevin De Bruyne</td>\n",
       "      <td>http://sofifa.com/player/192985/kevin-de-bruyn...</td>\n",
       "      <td>Belgium</td>\n",
       "      <td>CAM CM</td>\n",
       "      <td>K. De Bruyne</td>\n",
       "      <td>29</td>\n",
       "      <td>91</td>\n",
       "      <td>91</td>\n",
       "      <td>\\n\\n\\n\\nManchester City\\n2015 ~ 2023\\n\\n</td>\n",
       "      <td>...</td>\n",
       "      <td>High</td>\n",
       "      <td>High</td>\n",
       "      <td>4 ★</td>\n",
       "      <td>76</td>\n",
       "      <td>86</td>\n",
       "      <td>93</td>\n",
       "      <td>88</td>\n",
       "      <td>64</td>\n",
       "      <td>78</td>\n",
       "      <td>\\n163</td>\n",
       "    </tr>\n",
       "    <tr>\n",
       "      <th>4</th>\n",
       "      <td>https://cdn.sofifa.com/players/190/871/21_60.png</td>\n",
       "      <td>Neymar da Silva Santos Jr.</td>\n",
       "      <td>http://sofifa.com/player/190871/neymar-da-silv...</td>\n",
       "      <td>Brazil</td>\n",
       "      <td>LW CAM</td>\n",
       "      <td>Neymar Jr</td>\n",
       "      <td>28</td>\n",
       "      <td>91</td>\n",
       "      <td>91</td>\n",
       "      <td>\\n\\n\\n\\nParis Saint-Germain\\n2017 ~ 2022\\n\\n</td>\n",
       "      <td>...</td>\n",
       "      <td>High</td>\n",
       "      <td>Medium</td>\n",
       "      <td>5 ★</td>\n",
       "      <td>91</td>\n",
       "      <td>85</td>\n",
       "      <td>86</td>\n",
       "      <td>94</td>\n",
       "      <td>36</td>\n",
       "      <td>59</td>\n",
       "      <td>\\n273</td>\n",
       "    </tr>\n",
       "  </tbody>\n",
       "</table>\n",
       "<p>5 rows × 77 columns</p>\n",
       "</div>"
      ],
      "text/plain": [
       "                                           photoUrl  \\\n",
       "0  https://cdn.sofifa.com/players/158/023/21_60.png   \n",
       "1  https://cdn.sofifa.com/players/020/801/21_60.png   \n",
       "2  https://cdn.sofifa.com/players/200/389/21_60.png   \n",
       "3  https://cdn.sofifa.com/players/192/985/21_60.png   \n",
       "4  https://cdn.sofifa.com/players/190/871/21_60.png   \n",
       "\n",
       "                       LongName  \\\n",
       "0                  Lionel Messi   \n",
       "1  C. Ronaldo dos Santos Aveiro   \n",
       "2                     Jan Oblak   \n",
       "3               Kevin De Bruyne   \n",
       "4    Neymar da Silva Santos Jr.   \n",
       "\n",
       "                                           playerUrl Nationality Positions  \\\n",
       "0  http://sofifa.com/player/158023/lionel-messi/2...   Argentina  RW ST CF   \n",
       "1  http://sofifa.com/player/20801/c-ronaldo-dos-s...    Portugal     ST LW   \n",
       "2  http://sofifa.com/player/200389/jan-oblak/210005/    Slovenia        GK   \n",
       "3  http://sofifa.com/player/192985/kevin-de-bruyn...     Belgium    CAM CM   \n",
       "4  http://sofifa.com/player/190871/neymar-da-silv...      Brazil    LW CAM   \n",
       "\n",
       "                Name  Age  ↓OVA  POT  \\\n",
       "0           L. Messi   33    93   93   \n",
       "1  Cristiano Ronaldo   35    92   92   \n",
       "2           J. Oblak   27    91   93   \n",
       "3       K. De Bruyne   29    91   91   \n",
       "4          Neymar Jr   28    91   91   \n",
       "\n",
       "                                Team & Contract  ...     A/W     D/W   IR PAC  \\\n",
       "0         \\n\\n\\n\\nFC Barcelona\\n2004 ~ 2021\\n\\n  ...  Medium     Low  5 ★  85   \n",
       "1             \\n\\n\\n\\nJuventus\\n2018 ~ 2022\\n\\n  ...    High     Low  5 ★  89   \n",
       "2      \\n\\n\\n\\nAtlético Madrid\\n2014 ~ 2023\\n\\n  ...  Medium  Medium  3 ★  87   \n",
       "3      \\n\\n\\n\\nManchester City\\n2015 ~ 2023\\n\\n  ...    High    High  4 ★  76   \n",
       "4  \\n\\n\\n\\nParis Saint-Germain\\n2017 ~ 2022\\n\\n  ...    High  Medium  5 ★  91   \n",
       "\n",
       "   SHO PAS  DRI DEF PHY   Hits  \n",
       "0   92  91   95  38  65  \\n372  \n",
       "1   93  81   89  35  77  \\n344  \n",
       "2   92  78   90  52  90   \\n86  \n",
       "3   86  93   88  64  78  \\n163  \n",
       "4   85  86   94  36  59  \\n273  \n",
       "\n",
       "[5 rows x 77 columns]"
      ]
     },
     "execution_count": 5,
     "metadata": {},
     "output_type": "execute_result"
    }
   ],
   "source": [
    "df.head()"
   ]
  },
  {
   "cell_type": "code",
   "execution_count": 6,
   "id": "2dfe6e1f",
   "metadata": {},
   "outputs": [
    {
     "data": {
      "text/plain": [
       "Index(['photoUrl', 'LongName', 'playerUrl', 'Nationality', 'Positions', 'Name',\n",
       "       'Age', '↓OVA', 'POT', 'Team & Contract', 'ID', 'Height', 'Weight',\n",
       "       'foot', 'BOV', 'BP', 'Growth', 'Joined', 'Loan Date End', 'Value',\n",
       "       'Wage', 'Release Clause', 'Attacking', 'Crossing', 'Finishing',\n",
       "       'Heading Accuracy', 'Short Passing', 'Volleys', 'Skill', 'Dribbling',\n",
       "       'Curve', 'FK Accuracy', 'Long Passing', 'Ball Control', 'Movement',\n",
       "       'Acceleration', 'Sprint Speed', 'Agility', 'Reactions', 'Balance',\n",
       "       'Power', 'Shot Power', 'Jumping', 'Stamina', 'Strength', 'Long Shots',\n",
       "       'Mentality', 'Aggression', 'Interceptions', 'Positioning', 'Vision',\n",
       "       'Penalties', 'Composure', 'Defending', 'Marking', 'Standing Tackle',\n",
       "       'Sliding Tackle', 'Goalkeeping', 'GK Diving', 'GK Handling',\n",
       "       'GK Kicking', 'GK Positioning', 'GK Reflexes', 'Total Stats',\n",
       "       'Base Stats', 'W/F', 'SM', 'A/W', 'D/W', 'IR', 'PAC', 'SHO', 'PAS',\n",
       "       'DRI', 'DEF', 'PHY', 'Hits'],\n",
       "      dtype='object')"
      ]
     },
     "execution_count": 6,
     "metadata": {},
     "output_type": "execute_result"
    }
   ],
   "source": [
    "df.columns"
   ]
  },
  {
   "cell_type": "code",
   "execution_count": 7,
   "id": "c7b92a1d",
   "metadata": {},
   "outputs": [
    {
     "name": "stdout",
     "output_type": "stream",
     "text": [
      "Column 'photoUrl' has unique data types: [<class 'str'>]\n",
      "Column 'LongName' has unique data types: [<class 'str'>]\n",
      "Column 'playerUrl' has unique data types: [<class 'str'>]\n",
      "Column 'Nationality' has unique data types: [<class 'str'>]\n",
      "Column 'Positions' has unique data types: [<class 'str'>]\n",
      "Column 'Name' has unique data types: [<class 'str'>]\n",
      "Column 'Age' has unique data types: [<class 'int'>]\n",
      "Column '↓OVA' has unique data types: [<class 'int'>]\n",
      "Column 'POT' has unique data types: [<class 'int'>]\n",
      "Column 'Team & Contract' has unique data types: [<class 'str'>]\n",
      "Column 'ID' has unique data types: [<class 'int'>]\n",
      "Column 'Height' has unique data types: [<class 'str'>]\n",
      "Column 'Weight' has unique data types: [<class 'str'>]\n",
      "Column 'foot' has unique data types: [<class 'str'>]\n",
      "Column 'BOV' has unique data types: [<class 'int'>]\n",
      "Column 'BP' has unique data types: [<class 'str'>]\n",
      "Column 'Growth' has unique data types: [<class 'int'>]\n",
      "Column 'Joined' has unique data types: [<class 'str'>]\n",
      "Column 'Loan Date End' has unique data types: [<class 'float'> <class 'str'>]\n",
      "Column 'Value' has unique data types: [<class 'str'>]\n",
      "Column 'Wage' has unique data types: [<class 'str'>]\n",
      "Column 'Release Clause' has unique data types: [<class 'str'>]\n",
      "Column 'Attacking' has unique data types: [<class 'int'>]\n",
      "Column 'Crossing' has unique data types: [<class 'int'>]\n",
      "Column 'Finishing' has unique data types: [<class 'int'>]\n",
      "Column 'Heading Accuracy' has unique data types: [<class 'int'>]\n",
      "Column 'Short Passing' has unique data types: [<class 'int'>]\n",
      "Column 'Volleys' has unique data types: [<class 'int'>]\n",
      "Column 'Skill' has unique data types: [<class 'int'>]\n",
      "Column 'Dribbling' has unique data types: [<class 'int'>]\n",
      "Column 'Curve' has unique data types: [<class 'int'>]\n",
      "Column 'FK Accuracy' has unique data types: [<class 'int'>]\n",
      "Column 'Long Passing' has unique data types: [<class 'int'>]\n",
      "Column 'Ball Control' has unique data types: [<class 'int'>]\n",
      "Column 'Movement' has unique data types: [<class 'int'>]\n",
      "Column 'Acceleration' has unique data types: [<class 'int'>]\n",
      "Column 'Sprint Speed' has unique data types: [<class 'int'>]\n",
      "Column 'Agility' has unique data types: [<class 'int'>]\n",
      "Column 'Reactions' has unique data types: [<class 'int'>]\n",
      "Column 'Balance' has unique data types: [<class 'int'>]\n",
      "Column 'Power' has unique data types: [<class 'int'>]\n",
      "Column 'Shot Power' has unique data types: [<class 'int'>]\n",
      "Column 'Jumping' has unique data types: [<class 'int'>]\n",
      "Column 'Stamina' has unique data types: [<class 'int'>]\n",
      "Column 'Strength' has unique data types: [<class 'int'>]\n",
      "Column 'Long Shots' has unique data types: [<class 'int'>]\n",
      "Column 'Mentality' has unique data types: [<class 'int'>]\n",
      "Column 'Aggression' has unique data types: [<class 'int'>]\n",
      "Column 'Interceptions' has unique data types: [<class 'int'>]\n",
      "Column 'Positioning' has unique data types: [<class 'int'>]\n",
      "Column 'Vision' has unique data types: [<class 'int'>]\n",
      "Column 'Penalties' has unique data types: [<class 'int'>]\n",
      "Column 'Composure' has unique data types: [<class 'int'>]\n",
      "Column 'Defending' has unique data types: [<class 'int'>]\n",
      "Column 'Marking' has unique data types: [<class 'int'>]\n",
      "Column 'Standing Tackle' has unique data types: [<class 'int'>]\n",
      "Column 'Sliding Tackle' has unique data types: [<class 'int'>]\n",
      "Column 'Goalkeeping' has unique data types: [<class 'int'>]\n",
      "Column 'GK Diving' has unique data types: [<class 'int'>]\n",
      "Column 'GK Handling' has unique data types: [<class 'int'>]\n",
      "Column 'GK Kicking' has unique data types: [<class 'int'>]\n",
      "Column 'GK Positioning' has unique data types: [<class 'int'>]\n",
      "Column 'GK Reflexes' has unique data types: [<class 'int'>]\n",
      "Column 'Total Stats' has unique data types: [<class 'int'>]\n",
      "Column 'Base Stats' has unique data types: [<class 'int'>]\n",
      "Column 'W/F' has unique data types: [<class 'str'>]\n",
      "Column 'SM' has unique data types: [<class 'str'>]\n",
      "Column 'A/W' has unique data types: [<class 'str'>]\n",
      "Column 'D/W' has unique data types: [<class 'str'>]\n",
      "Column 'IR' has unique data types: [<class 'str'>]\n",
      "Column 'PAC' has unique data types: [<class 'int'>]\n",
      "Column 'SHO' has unique data types: [<class 'int'>]\n",
      "Column 'PAS' has unique data types: [<class 'int'>]\n",
      "Column 'DRI' has unique data types: [<class 'int'>]\n",
      "Column 'DEF' has unique data types: [<class 'int'>]\n",
      "Column 'PHY' has unique data types: [<class 'int'>]\n",
      "Column 'Hits' has unique data types: [<class 'str'>]\n"
     ]
    }
   ],
   "source": [
    "for column in df.columns:\n",
    "    unique_types = df[column].apply(type).unique()\n",
    "    print(f\"Column '{column}' has unique data types: {unique_types}\")\n"
   ]
  },
  {
   "cell_type": "code",
   "execution_count": 9,
   "id": "33a3a781",
   "metadata": {},
   "outputs": [],
   "source": [
    "df['Loan Date End'] = df['Loan Date End'].astype(str)"
   ]
  },
  {
   "cell_type": "code",
   "execution_count": 10,
   "id": "2483b5d2",
   "metadata": {},
   "outputs": [],
   "source": [
    "# Removing non-numeric characters and converting to float\n",
    "for col in ['Value', 'Wage', 'Release Clause']:\n",
    "    df[col] = df[col].replace('[€MK]', '', regex=True).astype(float)"
   ]
  },
  {
   "cell_type": "code",
   "execution_count": 11,
   "id": "077267c0",
   "metadata": {},
   "outputs": [
    {
     "name": "stdout",
     "output_type": "stream",
     "text": [
      "photoUrl       0\n",
      "LongName       0\n",
      "playerUrl      0\n",
      "Nationality    0\n",
      "Positions      0\n",
      "              ..\n",
      "PAS            0\n",
      "DRI            0\n",
      "DEF            0\n",
      "PHY            0\n",
      "Hits           0\n",
      "Length: 77, dtype: int64\n"
     ]
    }
   ],
   "source": [
    "# Check for Missing Values\n",
    "missing_values = df.isnull().sum()\n",
    "print(missing_values)"
   ]
  },
  {
   "cell_type": "code",
   "execution_count": 12,
   "id": "ba11dab4",
   "metadata": {},
   "outputs": [
    {
     "name": "stdout",
     "output_type": "stream",
     "text": [
      "Number of duplicate rows: 1\n"
     ]
    }
   ],
   "source": [
    "# check for duplicates\n",
    "duplicates = df.duplicated()\n",
    "print(\"Number of duplicate rows:\",duplicates.sum())"
   ]
  },
  {
   "cell_type": "code",
   "execution_count": 13,
   "id": "e2c78076",
   "metadata": {},
   "outputs": [
    {
     "name": "stdout",
     "output_type": "stream",
     "text": [
      "photoUrl        https://cdn.sofifa.com/players/251/698/21_60.png\n",
      "LongName                                           Kevin Berlaso\n",
      "playerUrl      http://sofifa.com/player/251698/kevin-berlaso/...\n",
      "Nationality                                              Ecuador\n",
      "Positions                                                     RB\n",
      "                                     ...                        \n",
      "PAS                                                           69\n",
      "DRI                                                           77\n",
      "DEF                                                           72\n",
      "PHY                                                           68\n",
      "Hits                                                        \\n12\n",
      "Name: 944, Length: 77, dtype: object\n"
     ]
    }
   ],
   "source": [
    "duplicate_index = df[df.duplicated()].index[0]\n",
    "duplicate_row = df.loc[duplicate_index]\n",
    "print(duplicate_row)"
   ]
  },
  {
   "cell_type": "code",
   "execution_count": 15,
   "id": "faa5e64a",
   "metadata": {},
   "outputs": [
    {
     "name": "stdout",
     "output_type": "stream",
     "text": [
      "photoUrl       object\n",
      "LongName       object\n",
      "playerUrl      object\n",
      "Nationality    object\n",
      "Positions      object\n",
      "                ...  \n",
      "PAS             int64\n",
      "DRI             int64\n",
      "DEF             int64\n",
      "PHY             int64\n",
      "Hits           object\n",
      "Length: 77, dtype: object\n"
     ]
    }
   ],
   "source": [
    "# check for data types\n",
    "data_types = df.dtypes\n",
    "print(data_types)"
   ]
  },
  {
   "cell_type": "code",
   "execution_count": 16,
   "id": "9b22e647",
   "metadata": {},
   "outputs": [
    {
     "name": "stdout",
     "output_type": "stream",
     "text": [
      "\\n1      4321\n",
      "\\n2      3095\n",
      "\\n3      2083\n",
      "\\n4      1407\n",
      "\\n5      1064\n",
      "         ... \n",
      "\\n356       1\n",
      "\\n984       1\n",
      "\\n2K        1\n",
      "\\n603       1\n",
      "\\n208       1\n",
      "Name: Hits, Length: 374, dtype: int64\n"
     ]
    }
   ],
   "source": [
    "hits_counts = df['Hits'].value_counts()\n",
    "print(hits_counts)"
   ]
  },
  {
   "cell_type": "code",
   "execution_count": 17,
   "id": "e92e501b",
   "metadata": {},
   "outputs": [],
   "source": [
    "# Clean the 'Hits' column\n",
    "#Remove non-numeric characters and convert to numeric from Hits\n",
    "df['Hits'] = df['Hits'].str.replace('[^0-9]', '',regex=True)\n",
    "# Convert to numeric\n",
    "df['Hits'] = pd.to_numeric(df['Hits'],errors='coerce')"
   ]
  },
  {
   "cell_type": "code",
   "execution_count": 19,
   "id": "772ab1e6",
   "metadata": {},
   "outputs": [
    {
     "name": "stdout",
     "output_type": "stream",
     "text": [
      "1      4322\n",
      "2      3096\n",
      "3      2083\n",
      "4      1407\n",
      "5      1064\n",
      "       ... \n",
      "794       1\n",
      "243       1\n",
      "356       1\n",
      "984       1\n",
      "208       1\n",
      "Name: Hits, Length: 363, dtype: int64\n"
     ]
    }
   ],
   "source": [
    "# After cleaning\n",
    "print(df['Hits'].value_counts())"
   ]
  },
  {
   "cell_type": "code",
   "execution_count": 20,
   "id": "d0b236b1",
   "metadata": {},
   "outputs": [
    {
     "name": "stdout",
     "output_type": "stream",
     "text": [
      "photoUrl       object\n",
      "LongName       object\n",
      "playerUrl      object\n",
      "Nationality    object\n",
      "Positions      object\n",
      "                ...  \n",
      "PAS             int64\n",
      "DRI             int64\n",
      "DEF             int64\n",
      "PHY             int64\n",
      "Hits           object\n",
      "Length: 77, dtype: object\n"
     ]
    }
   ],
   "source": [
    "print(data_types)"
   ]
  },
  {
   "cell_type": "code",
   "execution_count": 26,
   "id": "db8349a7",
   "metadata": {},
   "outputs": [
    {
     "name": "stdout",
     "output_type": "stream",
     "text": [
      "                                               photoUrl             LongName  \\\n",
      "7571   https://cdn.sofifa.com/players/182/837/21_60.png       Kazenga LuaLua   \n",
      "17173  https://cdn.sofifa.com/players/231/682/21_60.png  Thomas Heward-Belle   \n",
      "18454  https://cdn.sofifa.com/players/255/600/21_60.png              Yu Xing   \n",
      "8871   https://cdn.sofifa.com/players/237/407/21_60.png         Chris Durkin   \n",
      "6543   https://cdn.sofifa.com/players/219/952/21_60.png       Liam Henderson   \n",
      "\n",
      "                                               playerUrl    Nationality  \\\n",
      "7571   http://sofifa.com/player/182837/kazenga-lualua...       DR Congo   \n",
      "17173  http://sofifa.com/player/231682/thomas-heward-...      Australia   \n",
      "18454    http://sofifa.com/player/255600/yu-xing/210005/       China PR   \n",
      "8871   http://sofifa.com/player/237407/chris-durkin/2...  United States   \n",
      "6543   http://sofifa.com/player/219952/liam-henderson...       Scotland   \n",
      "\n",
      "       Positions             Name  Age  ↓OVA  POT  \\\n",
      "7571    ST LW LM        K. LuaLua   29    67   67   \n",
      "17173         GK  T. Heward-Belle   23    56   66   \n",
      "18454         GK          Xing Yu   24    52   57   \n",
      "8871   CM CDM RM        C. Durkin   20    66   77   \n",
      "6543          CM     L. Henderson   24    68   75   \n",
      "\n",
      "                         Team & Contract  ...     A/W     D/W   IR PAC  SHO  \\\n",
      "7571              Luton Town 2018 ~ 2022  ...  Medium  Medium  1 ★  87   63   \n",
      "17173              Sydney FC 2017 ~ 2021  ...  Medium  Medium  1 ★  60   60   \n",
      "18454  Qingdao Huanghai F.C. 2018 ~ 2022  ...  Medium  Medium  1 ★  57   46   \n",
      "8871       Sint-Truidense VV 2020 ~ 2023  ...  Medium    High  1 ★  59   56   \n",
      "6543                   Lecce 2020 ~ 2024  ...  Medium  Medium  1 ★  62   59   \n",
      "\n",
      "      PAS  DRI DEF PHY  Hits  \n",
      "7571   61   72  37  65    13  \n",
      "17173  52   57  30  53     2  \n",
      "18454  49   59  21  48     1  \n",
      "8871   65   63  65  68    42  \n",
      "6543   68   69  54  73     7  \n",
      "\n",
      "[5 rows x 77 columns]\n"
     ]
    }
   ],
   "source": [
    "#Check Column Values:\n",
    "sample_data = df.sample(5)\n",
    "df['Team & Contract'] = df['Team & Contract'].str.replace('\\n', ' ').str.strip()\n",
    "print(sample_data)"
   ]
  },
  {
   "cell_type": "code",
   "execution_count": 27,
   "id": "29c63bee",
   "metadata": {
    "scrolled": false
   },
   "outputs": [
    {
     "name": "stdout",
     "output_type": "stream",
     "text": [
      "                Age          ↓OVA           POT             ID           BOV  \\\n",
      "count  18979.000000  18979.000000  18979.000000   18979.000000  18979.000000   \n",
      "mean      25.194583     65.718636     71.136098  226404.790242     66.751620   \n",
      "std        4.710753      6.968999      6.114176   27141.673349      6.747017   \n",
      "min       16.000000     47.000000     47.000000      41.000000     48.000000   \n",
      "25%       21.000000     61.000000     67.000000  210135.000000     62.000000   \n",
      "50%       25.000000     66.000000     71.000000  232424.000000     67.000000   \n",
      "75%       29.000000     70.000000     75.000000  246925.500000     71.000000   \n",
      "max       53.000000     93.000000     95.000000  259216.000000     93.000000   \n",
      "\n",
      "             Growth         Value          Wage  Release Clause     Attacking  \\\n",
      "count  18979.000000  18979.000000  18979.000000    18979.000000  18979.000000   \n",
      "mean       5.417461    268.641393    131.795932      217.260683    248.938616   \n",
      "std        5.663954    286.116397    246.867833      297.001381     74.299764   \n",
      "min        0.000000      0.000000      0.000000        0.000000     42.000000   \n",
      "25%        0.000000      4.850000      2.000000        1.900000    222.000000   \n",
      "50%        4.000000    170.000000      6.000000       13.600000    263.000000   \n",
      "75%        9.000000    475.000000     41.000000      406.000000    297.000000   \n",
      "max       26.000000    975.000000    950.000000      999.000000    437.000000   \n",
      "\n",
      "       ...   GK Reflexes   Total Stats    Base Stats           PAC  \\\n",
      "count  ...  18979.000000  18979.000000  18979.000000  18979.000000   \n",
      "mean   ...     16.519205   1595.293851    355.703040     67.454239   \n",
      "std    ...     17.854185    269.883542     40.762282     10.678058   \n",
      "min    ...      2.000000    747.000000    232.000000     25.000000   \n",
      "25%    ...      8.000000   1452.000000    327.000000     61.000000   \n",
      "50%    ...     11.000000   1627.000000    356.000000     68.000000   \n",
      "75%    ...     14.000000   1781.000000    384.000000     75.000000   \n",
      "max    ...     90.000000   2316.000000    498.000000     96.000000   \n",
      "\n",
      "                SHO           PAS           DRI           DEF           PHY  \\\n",
      "count  18979.000000  18979.000000  18979.000000  18979.000000  18979.000000   \n",
      "mean      53.457716     57.681069     62.875494     49.865904     64.368618   \n",
      "std       13.827229     10.081914      9.927875     16.442730      9.601665   \n",
      "min       16.000000     25.000000     25.000000     12.000000     28.000000   \n",
      "25%       44.000000     51.000000     57.000000     35.000000     58.000000   \n",
      "50%       56.000000     58.000000     64.000000     53.000000     65.000000   \n",
      "75%       64.000000     64.000000     69.000000     63.000000     71.000000   \n",
      "max       93.000000     93.000000     95.000000     91.000000     91.000000   \n",
      "\n",
      "               Hits  \n",
      "count  18979.000000  \n",
      "mean      15.550345  \n",
      "std       48.350278  \n",
      "min        1.000000  \n",
      "25%        2.000000  \n",
      "50%        3.000000  \n",
      "75%       10.000000  \n",
      "max      984.000000  \n",
      "\n",
      "[8 rows x 59 columns]\n"
     ]
    }
   ],
   "source": [
    "summary_stats = df.describe()\n",
    "print(summary_stats)"
   ]
  },
  {
   "cell_type": "code",
   "execution_count": 29,
   "id": "5c42ea86",
   "metadata": {},
   "outputs": [
    {
     "name": "stdout",
     "output_type": "stream",
     "text": [
      "Index(['photoUrl', 'LongName', 'playerUrl', 'Nationality', 'Positions', 'Name',\n",
      "       'Age', '↓OVA', 'POT', 'Team & Contract', 'ID', 'Height', 'Weight',\n",
      "       'foot', 'BOV', 'BP', 'Growth', 'Joined', 'Loan Date End', 'Value',\n",
      "       'Wage', 'Release Clause', 'Attacking', 'Crossing', 'Finishing',\n",
      "       'Heading Accuracy', 'Short Passing', 'Volleys', 'Skill', 'Dribbling',\n",
      "       'Curve', 'FK Accuracy', 'Long Passing', 'Ball Control', 'Movement',\n",
      "       'Acceleration', 'Sprint Speed', 'Agility', 'Reactions', 'Balance',\n",
      "       'Power', 'Shot Power', 'Jumping', 'Stamina', 'Strength', 'Long Shots',\n",
      "       'Mentality', 'Aggression', 'Interceptions', 'Positioning', 'Vision',\n",
      "       'Penalties', 'Composure', 'Defending', 'Marking', 'Standing Tackle',\n",
      "       'Sliding Tackle', 'Goalkeeping', 'GK Diving', 'GK Handling',\n",
      "       'GK Kicking', 'GK Positioning', 'GK Reflexes', 'Total Stats',\n",
      "       'Base Stats', 'W/F', 'SM', 'A/W', 'D/W', 'IR', 'PAC', 'SHO', 'PAS',\n",
      "       'DRI', 'DEF', 'PHY', 'Hits'],\n",
      "      dtype='object')\n"
     ]
    }
   ],
   "source": [
    "print(df.columns)"
   ]
  },
  {
   "cell_type": "code",
   "execution_count": 31,
   "id": "2b9d6309",
   "metadata": {},
   "outputs": [
    {
     "name": "stdout",
     "output_type": "stream",
     "text": [
      "  Height  Weight\n",
      "0   5'7\"  159lbs\n",
      "1   6'2\"  183lbs\n",
      "2   6'2\"  192lbs\n",
      "3  5'11\"  154lbs\n",
      "4   5'9\"  150lbs\n"
     ]
    }
   ],
   "source": [
    "print(df[['Height','Weight']].head())"
   ]
  },
  {
   "cell_type": "code",
   "execution_count": 39,
   "id": "cc477e4f",
   "metadata": {},
   "outputs": [],
   "source": [
    "# Remove unnecessary newline characters from all columns\n",
    "df = df.replace('\\n', '', regex=True)"
   ]
  },
  {
   "cell_type": "code",
   "execution_count": 40,
   "id": "36cb54ec",
   "metadata": {},
   "outputs": [
    {
     "name": "stdout",
     "output_type": "stream",
     "text": [
      "                                           photoUrl  \\\n",
      "0  https://cdn.sofifa.com/players/158/023/21_60.png   \n",
      "1  https://cdn.sofifa.com/players/020/801/21_60.png   \n",
      "2  https://cdn.sofifa.com/players/200/389/21_60.png   \n",
      "3  https://cdn.sofifa.com/players/192/985/21_60.png   \n",
      "4  https://cdn.sofifa.com/players/190/871/21_60.png   \n",
      "\n",
      "                       LongName  \\\n",
      "0                  Lionel Messi   \n",
      "1  C. Ronaldo dos Santos Aveiro   \n",
      "2                     Jan Oblak   \n",
      "3               Kevin De Bruyne   \n",
      "4    Neymar da Silva Santos Jr.   \n",
      "\n",
      "                                           playerUrl Nationality Positions  \\\n",
      "0  http://sofifa.com/player/158023/lionel-messi/2...   Argentina  RW ST CF   \n",
      "1  http://sofifa.com/player/20801/c-ronaldo-dos-s...    Portugal     ST LW   \n",
      "2  http://sofifa.com/player/200389/jan-oblak/210005/    Slovenia        GK   \n",
      "3  http://sofifa.com/player/192985/kevin-de-bruyn...     Belgium    CAM CM   \n",
      "4  http://sofifa.com/player/190871/neymar-da-silv...      Brazil    LW CAM   \n",
      "\n",
      "                Name  Age  ↓OVA  POT                  Team & Contract  ...  \\\n",
      "0           L. Messi   33    93   93         FC Barcelona 2004 ~ 2021  ...   \n",
      "1  Cristiano Ronaldo   35    92   92             Juventus 2018 ~ 2022  ...   \n",
      "2           J. Oblak   27    91   93      Atlético Madrid 2014 ~ 2023  ...   \n",
      "3       K. De Bruyne   29    91   91      Manchester City 2015 ~ 2023  ...   \n",
      "4          Neymar Jr   28    91   91  Paris Saint-Germain 2017 ~ 2022  ...   \n",
      "\n",
      "      A/W     D/W   IR PAC  SHO PAS  DRI DEF PHY  Hits  \n",
      "0  Medium     Low  5 ★  85   92  91   95  38  65   372  \n",
      "1    High     Low  5 ★  89   93  81   89  35  77   344  \n",
      "2  Medium  Medium  3 ★  87   92  78   90  52  90    86  \n",
      "3    High    High  4 ★  76   86  93   88  64  78   163  \n",
      "4    High  Medium  5 ★  91   85  86   94  36  59   273  \n",
      "\n",
      "[5 rows x 77 columns]\n"
     ]
    }
   ],
   "source": [
    "# Display the first few rows of the DataFrame\n",
    "print(df.head())"
   ]
  },
  {
   "cell_type": "code",
   "execution_count": 41,
   "id": "4cc3f744",
   "metadata": {},
   "outputs": [
    {
     "name": "stdout",
     "output_type": "stream",
     "text": [
      "0         Jul 1, 2004\n",
      "1        Jul 10, 2018\n",
      "2        Jul 16, 2014\n",
      "3        Aug 30, 2015\n",
      "4         Aug 3, 2017\n",
      "             ...     \n",
      "18974     Aug 1, 2020\n",
      "18975     Aug 1, 2020\n",
      "18976    Jul 13, 2018\n",
      "18977     Aug 1, 2020\n",
      "18978     Jan 1, 2020\n",
      "Name: Joined, Length: 18979, dtype: object\n"
     ]
    }
   ],
   "source": [
    "print(df['Joined'])"
   ]
  },
  {
   "cell_type": "code",
   "execution_count": 44,
   "id": "2b0e0547",
   "metadata": {
    "scrolled": true
   },
   "outputs": [
    {
     "name": "stdout",
     "output_type": "stream",
     "text": [
      "                                LongName                Team & Contract  \\\n",
      "0                           Lionel Messi       FC Barcelona 2004 ~ 2021   \n",
      "12     Carlos Henrique Venancio Casimiro        Real Madrid 2013 ~ 2023   \n",
      "14                          Manuel Neuer  FC Bayern München 2011 ~ 2023   \n",
      "15                         Karim Benzema        Real Madrid 2009 ~ 2022   \n",
      "16                   Sergio Ramos García        Real Madrid 2005 ~ 2021   \n",
      "...                                  ...                            ...   \n",
      "17207                         Hanlin Yao         Wuhan Zall 2010 ~ 2020   \n",
      "17247                     Omar Al Sunain         Ettifaq FC 2013 ~ 2023   \n",
      "17276                        Feiya Chang   Guangzhou R&F FC 2013 ~ 2020   \n",
      "17811                         Shoubo Sun         Wuhan Zall 2013 ~ 2020   \n",
      "18430                   Basil Al Bahrani           Al Fateh 2013 ~ 2022   \n",
      "\n",
      "          Joined  Years_at_club  \n",
      "0     2004-07-01      19.154004  \n",
      "12    2013-07-11      10.127310  \n",
      "14    2011-07-01      12.156057  \n",
      "15    2009-07-09      14.132786  \n",
      "16    2005-08-01      18.069815  \n",
      "...          ...            ...  \n",
      "17207 2010-01-01      13.650924  \n",
      "17247 2013-07-01      10.154689  \n",
      "17276 2013-01-01      10.650240  \n",
      "17811 2013-02-15      10.527036  \n",
      "18430 2013-07-01      10.154689  \n",
      "\n",
      "[668 rows x 4 columns]\n"
     ]
    }
   ],
   "source": [
    "# Players joined over 10 years\n",
    "import pandas as pd\n",
    "# Convert the 'Joined' column to datetime\n",
    "\n",
    "from datetime import datetime\n",
    "\n",
    "df['Joined'] = pd.to_datetime(df['Joined'])\n",
    "current_date = datetime.now()\n",
    "\n",
    "# Calculate the difference in years between 'Joined' date and current date\n",
    "df['Years_at_club'] = (current_date - df['Joined']).dt.days / 365.25\n",
    "\n",
    "# Filter players who have been playing at the club for more than 10 years\n",
    "players_over_10_years = df[df['Years_at_club'] > 10]\n",
    "\n",
    "# Display the players who have been playing at the club for more than 10 years\n",
    "print(players_over_10_years[['LongName', 'Team & Contract', 'Joined', 'Years_at_club']])"
   ]
  },
  {
   "cell_type": "code",
   "execution_count": 54,
   "id": "8fcf12f3",
   "metadata": {},
   "outputs": [
    {
     "name": "stdout",
     "output_type": "stream",
     "text": [
      "        Value   Wage Release Clause\n",
      "0      €67.5M  €560K        €138.4M\n",
      "1        €46M  €220K         €75.9M\n",
      "2        €75M  €125K        €159.4M\n",
      "3        €87M  €370K          €161M\n",
      "4        €90M  €270K        €166.5M\n",
      "...       ...    ...            ...\n",
      "18974    €35K    €1K           €57K\n",
      "18975    €60K   €500          €165K\n",
      "18976    €40K    €1K           €70K\n",
      "18977    €60K   €500          €165K\n",
      "18978    €60K   €500          €167K\n",
      "\n",
      "[18979 rows x 3 columns]\n"
     ]
    }
   ],
   "source": [
    "# Before Conversion we can see default values of 'Value', 'Wage', and 'Release Clause' columns\n",
    "print(df[['Value', 'Wage', 'Release Clause']])"
   ]
  },
  {
   "cell_type": "code",
   "execution_count": 55,
   "id": "ee89ecb0",
   "metadata": {},
   "outputs": [
    {
     "name": "stdout",
     "output_type": "stream",
     "text": [
      "        Value      Wage  Release Clause\n",
      "0  67500000.0  560000.0     138400000.0\n",
      "1  46000000.0  220000.0      75900000.0\n",
      "2  75000000.0  125000.0     159400000.0\n",
      "3  87000000.0  370000.0     161000000.0\n",
      "4  90000000.0  270000.0     166500000.0\n"
     ]
    }
   ],
   "source": [
    "# After Conversion \n",
    "# Define a function to convert the value strings to actual numbers\n",
    "def convert_value_string(value_str):\n",
    "    if value_str[-1] == 'M':\n",
    "        return float(value_str[1:-1]) * 1000000\n",
    "    elif value_str[-1] == 'K':\n",
    "        return float(value_str[1:-1]) * 1000\n",
    "    else:\n",
    "        return float(value_str[1:])\n",
    "# Apply the function to the 'Value', 'Wage', and 'Release Clause' columns\n",
    "df['Value']=df['Value'].apply(convert_value_string)\n",
    "df['Wage'] = df['Wage'].apply(convert_value_string)\n",
    "df['Release Clause'] = df['Release Clause'].apply(convert_value_string)\n",
    "\n",
    "# Display the first few rows of the modified dataframe\n",
    "print(df[['Value', 'Wage', 'Release Clause']].head())"
   ]
  },
  {
   "cell_type": "code",
   "execution_count": 56,
   "id": "ad64f527",
   "metadata": {},
   "outputs": [
    {
     "name": "stdout",
     "output_type": "stream",
     "text": [
      "Index(['photoUrl', 'LongName', 'playerUrl', 'Nationality', 'Positions', 'Name',\n",
      "       'Age', '↓OVA', 'POT', 'Team & Contract', 'ID', 'Height', 'Weight',\n",
      "       'foot', 'BOV', 'BP', 'Growth', 'Joined', 'Loan Date End', 'Value',\n",
      "       'Wage', 'Release Clause', 'Attacking', 'Crossing', 'Finishing',\n",
      "       'Heading Accuracy', 'Short Passing', 'Volleys', 'Skill', 'Dribbling',\n",
      "       'Curve', 'FK Accuracy', 'Long Passing', 'Ball Control', 'Movement',\n",
      "       'Acceleration', 'Sprint Speed', 'Agility', 'Reactions', 'Balance',\n",
      "       'Power', 'Shot Power', 'Jumping', 'Stamina', 'Strength', 'Long Shots',\n",
      "       'Mentality', 'Aggression', 'Interceptions', 'Positioning', 'Vision',\n",
      "       'Penalties', 'Composure', 'Defending', 'Marking', 'Standing Tackle',\n",
      "       'Sliding Tackle', 'Goalkeeping', 'GK Diving', 'GK Handling',\n",
      "       'GK Kicking', 'GK Positioning', 'GK Reflexes', 'Total Stats',\n",
      "       'Base Stats', 'W/F', 'SM', 'A/W', 'D/W', 'IR', 'PAC', 'SHO', 'PAS',\n",
      "       'DRI', 'DEF', 'PHY', 'Hits', 'Years_at_club'],\n",
      "      dtype='object')\n"
     ]
    }
   ],
   "source": [
    "print(df.columns)"
   ]
  },
  {
   "cell_type": "code",
   "execution_count": 57,
   "id": "75b7b408",
   "metadata": {},
   "outputs": [
    {
     "name": "stdout",
     "output_type": "stream",
     "text": [
      "Columns with 'star' characters: ['W/F', 'SM', 'IR']\n"
     ]
    }
   ],
   "source": [
    "#More Cleaning\n",
    "\n",
    "columns_with_stars = []\n",
    "\n",
    "for column in df.columns:\n",
    "    if df[column].apply(lambda x: isinstance(x, str) and '★' in x).any():\n",
    "        columns_with_stars.append(column)\n",
    "\n",
    "print(\"Columns with 'star' characters:\", columns_with_stars)\n"
   ]
  },
  {
   "cell_type": "code",
   "execution_count": 60,
   "id": "14d23d04",
   "metadata": {},
   "outputs": [
    {
     "name": "stdout",
     "output_type": "stream",
     "text": [
      "Column 'W/F':\n",
      "3 ★    11695\n",
      "2 ★     4141\n",
      "4 ★     2722\n",
      "5 ★      283\n",
      "1 ★      138\n",
      "Name: W/F, dtype: int64\n",
      "\n",
      "Column 'SM':\n",
      "2★    9142\n",
      "3★    6576\n",
      "1★    2075\n",
      "4★    1131\n",
      "5★      55\n",
      "Name: SM, dtype: int64\n",
      "\n",
      "Column 'IR':\n",
      "1 ★    17628\n",
      "2 ★     1019\n",
      "3 ★      281\n",
      "4 ★       45\n",
      "5 ★        6\n",
      "Name: IR, dtype: int64\n",
      "\n"
     ]
    }
   ],
   "source": [
    "# List of columns with 'star' characters\n",
    "columns_with_stars = ['W/F', 'SM', 'IR']\n",
    "\n",
    "# Display the columns with 'star' characters\n",
    "for column in columns_with_stars:\n",
    "    print(f\"Column '{column}':\\n{df[column].value_counts()}\\n\")"
   ]
  },
  {
   "cell_type": "code",
   "execution_count": 62,
   "id": "019aba43",
   "metadata": {},
   "outputs": [
    {
     "name": "stdout",
     "output_type": "stream",
     "text": [
      "       W/F  SM  IR\n",
      "0        4   4   5\n",
      "1        4   5   5\n",
      "2        3   1   3\n",
      "3        5   4   4\n",
      "4        5   5   5\n",
      "...    ...  ..  ..\n",
      "18974    2   2   1\n",
      "18975    2   2   1\n",
      "18976    2   2   1\n",
      "18977    2   2   1\n",
      "18978    3   2   1\n",
      "\n",
      "[18979 rows x 3 columns]\n"
     ]
    }
   ],
   "source": [
    "# List of columns with 'star' characters\n",
    "columns_with_stars = ['W/F', 'SM', 'IR']\n",
    "\n",
    "# Remove '*' from columns and convert to numerical values\n",
    "for column in columns_with_stars:\n",
    "    df[column] = df[column].str.replace('★', '').astype(int)\n",
    "\n",
    "\n",
    "    # Display the updated DataFrame\n",
    "print(df[columns_with_stars])"
   ]
  },
  {
   "cell_type": "code",
   "execution_count": 64,
   "id": "33832f4c",
   "metadata": {},
   "outputs": [
    {
     "data": {
      "image/png": "[encoded data removed]",
      "text/plain": [
       "<Figure size 1000x600 with 1 Axes>"
      ]
     },
     "metadata": {},
     "output_type": "display_data"
    }
   ],
   "source": [
    "# Convert 'Value' and 'Wage' columns to numerical values\n",
    "\n",
    "import matplotlib.pyplot as plt\n",
    "def convert_value(value_str):\n",
    "    if isinstance(value_str, float):\n",
    "        return value_str  # Return numeric values as is\n",
    "    elif 'M' in value_str:\n",
    "        return float(value_str.replace('M', '')) * 1000000\n",
    "    elif 'K' in value_str:\n",
    "        return float(value_str.replace('K', '')) * 1000\n",
    "    else:\n",
    "        return float(value_str)\n",
    "\n",
    "df['Value'] = df['Value'].apply(convert_value)\n",
    "df['Wage'] = df['Wage'].apply(convert_value)\n",
    "\n",
    "# Scatter plot between 'Wage' and 'Value'\n",
    "plt.figure(figsize=(10, 6))\n",
    "plt.scatter(df['Wage'], df['Value'], alpha=0.5)\n",
    "plt.xlabel('Wage')\n",
    "plt.ylabel('Value')\n",
    "plt.title('Players\\' Value vs Wage')\n",
    "plt.show()"
   ]
  },
  {
   "cell_type": "code",
   "execution_count": 72,
   "id": "b00c6752",
   "metadata": {},
   "outputs": [
    {
     "ename": "NameError",
     "evalue": "name 'fifa21_raw_data' is not defined",
     "output_type": "error",
     "traceback": [
      "\u001b[1;31m---------------------------------------------------------------------------\u001b[0m",
      "\u001b[1;31mNameError\u001b[0m                                 Traceback (most recent call last)",
      "Cell \u001b[1;32mIn [72], line 1\u001b[0m\n\u001b[1;32m----> 1\u001b[0m \u001b[43mfifa21_raw_data\u001b[49m\u001b[38;5;241m.\u001b[39mto_csv(\u001b[38;5;124m'\u001b[39m\u001b[38;5;124mcleaned_fifa21_data.csv\u001b[39m\u001b[38;5;124m'\u001b[39m, index\u001b[38;5;241m=\u001b[39m\u001b[38;5;28;01mFalse\u001b[39;00m)\n",
      "\u001b[1;31mNameError\u001b[0m: name 'fifa21_raw_data' is not defined"
     ]
    }
   ],
   "source": [
    "fifa21_raw_data.to_csv('cleaned_fifa21_data.csv', index=False)"
   ]
  },
  {
   "cell_type": "code",
   "execution_count": 73,
   "id": "abeda965",
   "metadata": {},
   "outputs": [
    {
     "ename": "NameError",
     "evalue": "name 'cleaned_df' is not defined",
     "output_type": "error",
     "traceback": [
      "\u001b[1;31m---------------------------------------------------------------------------\u001b[0m",
      "\u001b[1;31mNameError\u001b[0m                                 Traceback (most recent call last)",
      "Cell \u001b[1;32mIn [73], line 2\u001b[0m\n\u001b[0;32m      1\u001b[0m \u001b[38;5;66;03m# Assuming your cleaned DataFrame is named cleaned_df\u001b[39;00m\n\u001b[1;32m----> 2\u001b[0m \u001b[43mcleaned_df\u001b[49m\u001b[38;5;241m.\u001b[39mto_csv(\u001b[38;5;124m'\u001b[39m\u001b[38;5;124mcleaned_fifa21_data.csv\u001b[39m\u001b[38;5;124m'\u001b[39m, index\u001b[38;5;241m=\u001b[39m\u001b[38;5;28;01mFalse\u001b[39;00m)\n",
      "\u001b[1;31mNameError\u001b[0m: name 'cleaned_df' is not defined"
     ]
    }
   ],
   "source": [
    "# Assuming your cleaned DataFrame is named cleaned_df\n",
    "cleaned_df.to_csv('cleaned_fifa21_data.csv', index=False)\n"
   ]
  },
  {
   "cell_type": "code",
   "execution_count": 74,
   "id": "02c5a5e4",
   "metadata": {},
   "outputs": [],
   "source": [
    "# Save the cleaned DataFrame as a CSV file\n",
    "df.to_csv('cleaned_fifa21_data.csv', index=False)"
   ]
  },
  {
   "cell_type": "code",
   "execution_count": 75,
   "id": "d34bbd03",
   "metadata": {},
   "outputs": [
    {
     "name": "stdout",
     "output_type": "stream",
     "text": [
      "C:\\Users\\zohai\\Documents\n"
     ]
    }
   ],
   "source": [
    "import os\n",
    "print(os.getcwd())\n"
   ]
  }
 ],
 "metadata": {
  "kernelspec": {
   "display_name": "Python 3 (ipykernel)",
   "language": "python",
   "name": "python3"
  },
  "language_info": {
   "codemirror_mode": {
    "name": "ipython",
    "version": 3
   },
   "file_extension": ".py",
   "mimetype": "text/x-python",
   "name": "python",
   "nbconvert_exporter": "python",
   "pygments_lexer": "ipython3",
   "version": "3.11.0"
  }
 },
 "nbformat": 4,
 "nbformat_minor": 5
}
